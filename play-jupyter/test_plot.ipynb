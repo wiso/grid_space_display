{
 "cells": [
  {
   "cell_type": "code",
   "execution_count": null,
   "metadata": {},
   "outputs": [],
   "source": [
    "import json\n",
    "\n",
    "import cufflinks as cf\n",
    "import numpy as np\n",
    "import pandas as pd\n",
    "from pandas.io.pytables import HDFStore\n",
    "\n",
    "cf.go_offline()"
   ]
  },
  {
   "cell_type": "code",
   "execution_count": null,
   "metadata": {},
   "outputs": [],
   "source": [
    "store = HDFStore(\"../store.h5\")\n",
    "\n",
    "data = []\n",
    "for k in list(store.keys()):\n",
    "    try:\n",
    "        d = store.get(k)\n",
    "        d[\"timestamp\"] = pd.to_datetime(k.split(\"_\")[1], format=\"%d%m%Y\")\n",
    "        data.append(d)\n",
    "    except Exception as e:\n",
    "        print(\"Problem reading\", k)\n",
    "        print(e)\n",
    "store.close()\n",
    "\n",
    "data = pd.concat(data)\n",
    "data = data.set_index([\"timestamp\", \"owner\"])\n"
   ]
  },
  {
   "cell_type": "code",
   "execution_count": null,
   "metadata": {},
   "outputs": [],
   "source": [
    "data_to_plot = data[\"size\"].unstack().fillna(0)\n",
    "dataplot = data_to_plot.iplot(kind=\"scatter\", fill=True, asFigure=True)\n",
    "data.iplot(data=dataplot[\"data\"])"
   ]
  },
  {
   "cell_type": "code",
   "execution_count": null,
   "metadata": {},
   "outputs": [],
   "source": [
    "latest_data = data[\n",
    "    data.index.get_level_values(\"timestamp\") == data.index.get_level_values(\"timestamp\").max()\n",
    "]\n",
    "dataplot = latest_data.reset_index().iplot(\n",
    "    kind=\"pie\",\n",
    "    labels=\"owner\",\n",
    "    values=\"size\",\n",
    "    hole=0.4,\n",
    "    sort=True,\n",
    "    textinfo=\"percent\",\n",
    "    asFigure=True,\n",
    ")\n",
    "dataplot[\"data\"][0][\"text\"] = [\"%.2f Gb\" % xx for xx in dataplot[\"data\"][0][\"values\"]]\n",
    "dataplot[\"data\"][0][\"hoverinfo\"] = \"text+label\"\n",
    "data.iplot(data=dataplot[\"data\"])"
   ]
  }
 ],
 "metadata": {
  "kernelspec": {
   "display_name": "mambda_python3",
   "language": "python",
   "name": "mambda_python3"
  },
  "language_info": {
   "codemirror_mode": {
    "name": "ipython",
    "version": 3
   },
   "file_extension": ".py",
   "mimetype": "text/x-python",
   "name": "python",
   "nbconvert_exporter": "python",
   "pygments_lexer": "ipython3",
   "version": "3.9.16"
  },
  "orig_nbformat": 4
 },
 "nbformat": 4,
 "nbformat_minor": 2
}
